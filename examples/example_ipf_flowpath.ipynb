{
 "cells": [
  {
   "cell_type": "markdown",
   "metadata": {},
   "source": [
    "## example: \n",
    "### importing .ipf iMOD flowpath files\n",
    "\n"
   ]
  },
  {
   "cell_type": "code",
   "execution_count": 1,
   "metadata": {},
   "outputs": [],
   "source": [
    "import matplotlib.pyplot as plt\n",
    "import numpy as np\n",
    "import pandas as pd\n",
    "import pyhydro\n"
   ]
  },
  {
   "cell_type": "markdown",
   "metadata": {},
   "source": [
    "#### Step 1. Start importing metadata of wells\n",
    "metadata should contain at least two columns with X- and Y-coordinates, called 'X' and 'Y'."
   ]
  },
  {
   "cell_type": "code",
   "execution_count": 2,
   "metadata": {},
   "outputs": [
    {
     "name": "stdout",
     "output_type": "stream",
     "text": [
      "Four wells of Cothen\n",
      "Note the columns X and Y with coordinates\n"
     ]
    },
    {
     "data": {
      "text/html": [
       "<div>\n",
       "<style scoped>\n",
       "    .dataframe tbody tr th:only-of-type {\n",
       "        vertical-align: middle;\n",
       "    }\n",
       "\n",
       "    .dataframe tbody tr th {\n",
       "        vertical-align: top;\n",
       "    }\n",
       "\n",
       "    .dataframe thead th {\n",
       "        text-align: right;\n",
       "    }\n",
       "</style>\n",
       "<table border=\"1\" class=\"dataframe\">\n",
       "  <thead>\n",
       "    <tr style=\"text-align: right;\">\n",
       "      <th></th>\n",
       "      <th>Name</th>\n",
       "      <th>Locatie</th>\n",
       "      <th>X</th>\n",
       "      <th>Y</th>\n",
       "      <th>BK_Filter_mNAP</th>\n",
       "      <th>OK_Filter_mNAP</th>\n",
       "    </tr>\n",
       "  </thead>\n",
       "  <tbody>\n",
       "    <tr>\n",
       "      <th>0</th>\n",
       "      <td>COPP002</td>\n",
       "      <td>CTH</td>\n",
       "      <td>149443</td>\n",
       "      <td>444403</td>\n",
       "      <td>-55.67</td>\n",
       "      <td>-73.67</td>\n",
       "    </tr>\n",
       "    <tr>\n",
       "      <th>1</th>\n",
       "      <td>COPP003</td>\n",
       "      <td>CTH</td>\n",
       "      <td>149507</td>\n",
       "      <td>444479</td>\n",
       "      <td>-61.74</td>\n",
       "      <td>-86.89</td>\n",
       "    </tr>\n",
       "    <tr>\n",
       "      <th>2</th>\n",
       "      <td>COPP004</td>\n",
       "      <td>CTH</td>\n",
       "      <td>149561</td>\n",
       "      <td>444555</td>\n",
       "      <td>-59.46</td>\n",
       "      <td>-84.67</td>\n",
       "    </tr>\n",
       "    <tr>\n",
       "      <th>3</th>\n",
       "      <td>COPP005</td>\n",
       "      <td>CTH</td>\n",
       "      <td>149418</td>\n",
       "      <td>444318</td>\n",
       "      <td>-65.20</td>\n",
       "      <td>-102.45</td>\n",
       "    </tr>\n",
       "  </tbody>\n",
       "</table>\n",
       "</div>"
      ],
      "text/plain": [
       "      Name Locatie       X       Y  BK_Filter_mNAP  OK_Filter_mNAP\n",
       "0  COPP002     CTH  149443  444403          -55.67          -73.67\n",
       "1  COPP003     CTH  149507  444479          -61.74          -86.89\n",
       "2  COPP004     CTH  149561  444555          -59.46          -84.67\n",
       "3  COPP005     CTH  149418  444318          -65.20         -102.45"
      ]
     },
     "execution_count": 2,
     "metadata": {},
     "output_type": "execute_result"
    }
   ],
   "source": [
    "print('Four wells of Cothen')\n",
    "data_wells = pd.read_excel(r\"C:\\Users\\mulderma\\Documents\\Python\\pyhydro\\0.4\\examples\\data\\wells_Cothen.xlsx\")\n",
    "print('Note the columns X and Y with coordinates')\n",
    "data_wells.head()"
   ]
  },
  {
   "cell_type": "markdown",
   "metadata": {},
   "source": [
    "#### Step 2. Import headsfile of your modelsimulation\n",
    "In this example we use the steady state heads of our regional model."
   ]
  },
  {
   "cell_type": "code",
   "execution_count": 3,
   "metadata": {},
   "outputs": [
    {
     "name": "stdout",
     "output_type": "stream",
     "text": [
      "Modelextent: [xmin, ymin, xmax, ymax] = [139500.0, 455000.0, 159500.0, 435000.0]\n"
     ]
    },
    {
     "data": {
      "image/png": "[encoded data removed]",
      "text/plain": [
       "<Figure size 360x360 with 1 Axes>"
      ]
     },
     "metadata": {
      "needs_background": "light"
     },
     "output_type": "display_data"
    }
   ],
   "source": [
    "path_heads = r'C:\\Users\\mulderma\\Documents\\Python\\pyhydro\\0.4\\examples\\data\\head_steady-state_l1.idf'\n",
    "idf_heads, extent_heads, heads_xs, heads_ys = pyhydro.idf.import_idf(path_heads)\n",
    "\n",
    "fig, ax = plt.subplots(nrows=1, ncols=1, figsize=(5,5));\n",
    "ax.contourf(heads_xs, heads_ys, idf_heads[0, 0, :, :], cmap='Blues');\n",
    "ax.plot(data_wells.loc[:, 'X'], data_wells.loc[:, 'Y'], '*', color='black', markersize=10);\n",
    "ax.set_title('Heads steady state modellayer 1');\n",
    "ax.set_xlabel('X-coordinates');\n",
    "ax.set_ylabel('Y-coordinates');\n",
    "print('Modelextent: [xmin, ymin, xmax, ymax] =',extent_heads)\n",
    "plt.show(fig)\n"
   ]
  },
  {
   "cell_type": "markdown",
   "metadata": {},
   "source": [
    "#### Step 3. Import .ipf iMOD flowpath data\n",
    "Forward flowpath calculations have been calculated using iMOD. Starting points started above the confined layer, which confines the pump filters. "
   ]
  },
  {
   "cell_type": "code",
   "execution_count": 4,
   "metadata": {},
   "outputs": [
    {
     "name": "stdout",
     "output_type": "stream",
     "text": [
      ".ipf flowpath data:\n"
     ]
    },
    {
     "data": {
      "text/html": [
       "<div>\n",
       "<style scoped>\n",
       "    .dataframe tbody tr th:only-of-type {\n",
       "        vertical-align: middle;\n",
       "    }\n",
       "\n",
       "    .dataframe tbody tr th {\n",
       "        vertical-align: top;\n",
       "    }\n",
       "\n",
       "    .dataframe thead th {\n",
       "        text-align: right;\n",
       "    }\n",
       "</style>\n",
       "<table border=\"1\" class=\"dataframe\">\n",
       "  <thead>\n",
       "    <tr style=\"text-align: right;\">\n",
       "      <th></th>\n",
       "      <th>SP_XCRD.</th>\n",
       "      <th>SP_YCRD.</th>\n",
       "      <th>SP_ZCRD.</th>\n",
       "      <th>SP_ILAY</th>\n",
       "      <th>SP_IROW</th>\n",
       "      <th>SP_ICOL</th>\n",
       "      <th>EP_XCRD.</th>\n",
       "      <th>EP_YCRD.</th>\n",
       "      <th>EP_ZCRD.</th>\n",
       "      <th>EP_ILAY</th>\n",
       "      <th>EP_IROW</th>\n",
       "      <th>EP_ICOL</th>\n",
       "      <th>TIME(YEARS)</th>\n",
       "      <th>MAXLAYER</th>\n",
       "      <th>DISTANCE</th>\n",
       "      <th>IDENT.NO.</th>\n",
       "      <th>CAPTURED_BY</th>\n",
       "      <th>imodpath_col</th>\n",
       "      <th>imodpath_row</th>\n",
       "    </tr>\n",
       "  </thead>\n",
       "  <tbody>\n",
       "    <tr>\n",
       "      <th>0</th>\n",
       "      <td>145050.0</td>\n",
       "      <td>448950.0</td>\n",
       "      <td>-52.495</td>\n",
       "      <td>6.0</td>\n",
       "      <td>61.0</td>\n",
       "      <td>56.0</td>\n",
       "      <td>144501.2</td>\n",
       "      <td>448813.0</td>\n",
       "      <td>-90.61119</td>\n",
       "      <td>7.0</td>\n",
       "      <td>62.0</td>\n",
       "      <td>51.0</td>\n",
       "      <td>99.93155</td>\n",
       "      <td>7.0</td>\n",
       "      <td>566.8810</td>\n",
       "      <td>1.0</td>\n",
       "      <td>7.0</td>\n",
       "      <td>0.0</td>\n",
       "      <td>0.0</td>\n",
       "    </tr>\n",
       "    <tr>\n",
       "      <th>1</th>\n",
       "      <td>145150.0</td>\n",
       "      <td>448950.0</td>\n",
       "      <td>-52.340</td>\n",
       "      <td>6.0</td>\n",
       "      <td>61.0</td>\n",
       "      <td>57.0</td>\n",
       "      <td>144659.0</td>\n",
       "      <td>448827.9</td>\n",
       "      <td>-88.24079</td>\n",
       "      <td>7.0</td>\n",
       "      <td>62.0</td>\n",
       "      <td>52.0</td>\n",
       "      <td>99.93155</td>\n",
       "      <td>7.0</td>\n",
       "      <td>507.2694</td>\n",
       "      <td>2.0</td>\n",
       "      <td>7.0</td>\n",
       "      <td>1.0</td>\n",
       "      <td>0.0</td>\n",
       "    </tr>\n",
       "    <tr>\n",
       "      <th>2</th>\n",
       "      <td>145250.0</td>\n",
       "      <td>448950.0</td>\n",
       "      <td>-52.201</td>\n",
       "      <td>6.0</td>\n",
       "      <td>61.0</td>\n",
       "      <td>58.0</td>\n",
       "      <td>144844.3</td>\n",
       "      <td>448847.2</td>\n",
       "      <td>-83.72286</td>\n",
       "      <td>7.0</td>\n",
       "      <td>62.0</td>\n",
       "      <td>54.0</td>\n",
       "      <td>99.93155</td>\n",
       "      <td>7.0</td>\n",
       "      <td>419.7468</td>\n",
       "      <td>3.0</td>\n",
       "      <td>7.0</td>\n",
       "      <td>2.0</td>\n",
       "      <td>0.0</td>\n",
       "    </tr>\n",
       "    <tr>\n",
       "      <th>3</th>\n",
       "      <td>145350.0</td>\n",
       "      <td>448950.0</td>\n",
       "      <td>-51.801</td>\n",
       "      <td>6.0</td>\n",
       "      <td>61.0</td>\n",
       "      <td>59.0</td>\n",
       "      <td>145182.7</td>\n",
       "      <td>448906.1</td>\n",
       "      <td>-71.65192</td>\n",
       "      <td>7.0</td>\n",
       "      <td>61.0</td>\n",
       "      <td>57.0</td>\n",
       "      <td>99.93155</td>\n",
       "      <td>7.0</td>\n",
       "      <td>174.0839</td>\n",
       "      <td>4.0</td>\n",
       "      <td>7.0</td>\n",
       "      <td>3.0</td>\n",
       "      <td>0.0</td>\n",
       "    </tr>\n",
       "    <tr>\n",
       "      <th>4</th>\n",
       "      <td>145450.0</td>\n",
       "      <td>448950.0</td>\n",
       "      <td>-19.188</td>\n",
       "      <td>5.0</td>\n",
       "      <td>61.0</td>\n",
       "      <td>60.0</td>\n",
       "      <td>144911.6</td>\n",
       "      <td>448804.5</td>\n",
       "      <td>-87.83669</td>\n",
       "      <td>7.0</td>\n",
       "      <td>62.0</td>\n",
       "      <td>55.0</td>\n",
       "      <td>99.93155</td>\n",
       "      <td>7.0</td>\n",
       "      <td>561.9560</td>\n",
       "      <td>5.0</td>\n",
       "      <td>7.0</td>\n",
       "      <td>4.0</td>\n",
       "      <td>0.0</td>\n",
       "    </tr>\n",
       "  </tbody>\n",
       "</table>\n",
       "</div>"
      ],
      "text/plain": [
       "   SP_XCRD.  SP_YCRD.  SP_ZCRD.  SP_ILAY  SP_IROW  SP_ICOL  EP_XCRD.  \\\n",
       "0  145050.0  448950.0   -52.495      6.0     61.0     56.0  144501.2   \n",
       "1  145150.0  448950.0   -52.340      6.0     61.0     57.0  144659.0   \n",
       "2  145250.0  448950.0   -52.201      6.0     61.0     58.0  144844.3   \n",
       "3  145350.0  448950.0   -51.801      6.0     61.0     59.0  145182.7   \n",
       "4  145450.0  448950.0   -19.188      5.0     61.0     60.0  144911.6   \n",
       "\n",
       "   EP_YCRD.  EP_ZCRD.  EP_ILAY  EP_IROW  EP_ICOL  TIME(YEARS)  MAXLAYER  \\\n",
       "0  448813.0 -90.61119      7.0     62.0     51.0     99.93155       7.0   \n",
       "1  448827.9 -88.24079      7.0     62.0     52.0     99.93155       7.0   \n",
       "2  448847.2 -83.72286      7.0     62.0     54.0     99.93155       7.0   \n",
       "3  448906.1 -71.65192      7.0     61.0     57.0     99.93155       7.0   \n",
       "4  448804.5 -87.83669      7.0     62.0     55.0     99.93155       7.0   \n",
       "\n",
       "   DISTANCE  IDENT.NO.  CAPTURED_BY  imodpath_col  imodpath_row  \n",
       "0  566.8810        1.0          7.0           0.0           0.0  \n",
       "1  507.2694        2.0          7.0           1.0           0.0  \n",
       "2  419.7468        3.0          7.0           2.0           0.0  \n",
       "3  174.0839        4.0          7.0           3.0           0.0  \n",
       "4  561.9560        5.0          7.0           4.0           0.0  "
      ]
     },
     "execution_count": 4,
     "metadata": {},
     "output_type": "execute_result"
    }
   ],
   "source": [
    "path_ipf = r'C:\\Users\\mulderma\\Documents\\Python\\pyhydro\\0.4\\examples\\data\\run3_Cothen_100m_Huidig_imodpath.ipf'\n",
    "\n",
    "# import ipf_data and extract x- and y-coordinates\n",
    "ipf_data, ipf_xs, ipf_ys = pyhydro.ipf.import_ipf(path_ipf, report=False)\n",
    "#print('X-coordinates of .ipf flowpath results:',ipf_xs)\n",
    "#print('Y-coordinates of .ipf flowpath results:',ipf_ys)\n",
    "print('.ipf flowpath data:')\n",
    "ipf_data.head()\n"
   ]
  },
  {
   "cell_type": "markdown",
   "metadata": {},
   "source": [
    "#### Step 4. Extract well cells in modelsimulation\n",
    "Calculates the cell numbers (rows and columns) of the wells in the modelsimulation"
   ]
  },
  {
   "cell_type": "code",
   "execution_count": 5,
   "metadata": {},
   "outputs": [
    {
     "name": "stdout",
     "output_type": "stream",
     "text": [
      "model dx = 100.0\n",
      "Note how the IROW and ICOL numbers are added to the well data\n",
      "These IROW and ICOL numbers refer to the well location in the modelsimulation\n"
     ]
    },
    {
     "data": {
      "text/html": [
       "<div>\n",
       "<style scoped>\n",
       "    .dataframe tbody tr th:only-of-type {\n",
       "        vertical-align: middle;\n",
       "    }\n",
       "\n",
       "    .dataframe tbody tr th {\n",
       "        vertical-align: top;\n",
       "    }\n",
       "\n",
       "    .dataframe thead th {\n",
       "        text-align: right;\n",
       "    }\n",
       "</style>\n",
       "<table border=\"1\" class=\"dataframe\">\n",
       "  <thead>\n",
       "    <tr style=\"text-align: right;\">\n",
       "      <th></th>\n",
       "      <th>Name</th>\n",
       "      <th>Locatie</th>\n",
       "      <th>X</th>\n",
       "      <th>Y</th>\n",
       "      <th>BK_Filter_mNAP</th>\n",
       "      <th>OK_Filter_mNAP</th>\n",
       "      <th>ICOL</th>\n",
       "      <th>IROW</th>\n",
       "    </tr>\n",
       "  </thead>\n",
       "  <tbody>\n",
       "    <tr>\n",
       "      <th>0</th>\n",
       "      <td>COPP002</td>\n",
       "      <td>CTH</td>\n",
       "      <td>149443</td>\n",
       "      <td>444403</td>\n",
       "      <td>-55.67</td>\n",
       "      <td>-73.67</td>\n",
       "      <td>100.0</td>\n",
       "      <td>106.0</td>\n",
       "    </tr>\n",
       "    <tr>\n",
       "      <th>1</th>\n",
       "      <td>COPP003</td>\n",
       "      <td>CTH</td>\n",
       "      <td>149507</td>\n",
       "      <td>444479</td>\n",
       "      <td>-61.74</td>\n",
       "      <td>-86.89</td>\n",
       "      <td>101.0</td>\n",
       "      <td>106.0</td>\n",
       "    </tr>\n",
       "    <tr>\n",
       "      <th>2</th>\n",
       "      <td>COPP004</td>\n",
       "      <td>CTH</td>\n",
       "      <td>149561</td>\n",
       "      <td>444555</td>\n",
       "      <td>-59.46</td>\n",
       "      <td>-84.67</td>\n",
       "      <td>101.0</td>\n",
       "      <td>105.0</td>\n",
       "    </tr>\n",
       "    <tr>\n",
       "      <th>3</th>\n",
       "      <td>COPP005</td>\n",
       "      <td>CTH</td>\n",
       "      <td>149418</td>\n",
       "      <td>444318</td>\n",
       "      <td>-65.20</td>\n",
       "      <td>-102.45</td>\n",
       "      <td>100.0</td>\n",
       "      <td>107.0</td>\n",
       "    </tr>\n",
       "  </tbody>\n",
       "</table>\n",
       "</div>"
      ],
      "text/plain": [
       "      Name Locatie       X       Y  BK_Filter_mNAP  OK_Filter_mNAP   ICOL  \\\n",
       "0  COPP002     CTH  149443  444403          -55.67          -73.67  100.0   \n",
       "1  COPP003     CTH  149507  444479          -61.74          -86.89  101.0   \n",
       "2  COPP004     CTH  149561  444555          -59.46          -84.67  101.0   \n",
       "3  COPP005     CTH  149418  444318          -65.20         -102.45  100.0   \n",
       "\n",
       "    IROW  \n",
       "0  106.0  \n",
       "1  106.0  \n",
       "2  105.0  \n",
       "3  107.0  "
      ]
     },
     "execution_count": 5,
     "metadata": {},
     "output_type": "execute_result"
    }
   ],
   "source": [
    "dx = (heads_xs[1:-1] - heads_xs[0:-2]).mean()\n",
    "print('model dx =',dx)\n",
    "data_wells, well_bundle = pyhydro.ipf.get_well_cells(data_wells, model_xs=heads_xs, model_ys=heads_ys, model_dx=dx, report=False)\n",
    "print('Note how the IROW and ICOL numbers are added to the well data')\n",
    "print('These IROW and ICOL numbers refer to the well location in the modelsimulation')\n",
    "data_wells.head()\n"
   ]
  },
  {
   "cell_type": "markdown",
   "metadata": {},
   "source": [
    "#### Step 5. Extract all .ipf flowpaths that end up in your well cells. \n",
    "So, we're interested in all flowpath that end up in our pumps, so we can extract a capture zone of the wellfield and save it as raster data. We calculate the capture zone of each well and save it to rasters with origins and traveltimes. "
   ]
  },
  {
   "cell_type": "code",
   "execution_count": 6,
   "metadata": {},
   "outputs": [
    {
     "name": "stdout",
     "output_type": "stream",
     "text": [
      "Note how the ipf flowpath data is linked to the well it is captured by: columns Well_nr and Well_code\n"
     ]
    },
    {
     "data": {
      "text/html": [
       "<div>\n",
       "<style scoped>\n",
       "    .dataframe tbody tr th:only-of-type {\n",
       "        vertical-align: middle;\n",
       "    }\n",
       "\n",
       "    .dataframe tbody tr th {\n",
       "        vertical-align: top;\n",
       "    }\n",
       "\n",
       "    .dataframe thead th {\n",
       "        text-align: right;\n",
       "    }\n",
       "</style>\n",
       "<table border=\"1\" class=\"dataframe\">\n",
       "  <thead>\n",
       "    <tr style=\"text-align: right;\">\n",
       "      <th></th>\n",
       "      <th>SP_XCRD.</th>\n",
       "      <th>SP_YCRD.</th>\n",
       "      <th>SP_ZCRD.</th>\n",
       "      <th>SP_ILAY</th>\n",
       "      <th>SP_IROW</th>\n",
       "      <th>SP_ICOL</th>\n",
       "      <th>EP_XCRD.</th>\n",
       "      <th>EP_YCRD.</th>\n",
       "      <th>EP_ZCRD.</th>\n",
       "      <th>EP_ILAY</th>\n",
       "      <th>...</th>\n",
       "      <th>EP_ICOL</th>\n",
       "      <th>TIME(YEARS)</th>\n",
       "      <th>MAXLAYER</th>\n",
       "      <th>DISTANCE</th>\n",
       "      <th>IDENT.NO.</th>\n",
       "      <th>CAPTURED_BY</th>\n",
       "      <th>imodpath_col</th>\n",
       "      <th>imodpath_row</th>\n",
       "      <th>Well_nr</th>\n",
       "      <th>Well_code</th>\n",
       "    </tr>\n",
       "  </thead>\n",
       "  <tbody>\n",
       "    <tr>\n",
       "      <th>2748</th>\n",
       "      <td>149850.0</td>\n",
       "      <td>446250.0</td>\n",
       "      <td>-13.051</td>\n",
       "      <td>5.0</td>\n",
       "      <td>88.0</td>\n",
       "      <td>104.0</td>\n",
       "      <td>149400.0</td>\n",
       "      <td>444421.4</td>\n",
       "      <td>-88.18723</td>\n",
       "      <td>7.0</td>\n",
       "      <td>...</td>\n",
       "      <td>100.0</td>\n",
       "      <td>93.08960</td>\n",
       "      <td>7.0</td>\n",
       "      <td>1884.694</td>\n",
       "      <td>2749.0</td>\n",
       "      <td>5.0</td>\n",
       "      <td>48.0</td>\n",
       "      <td>27.0</td>\n",
       "      <td>0</td>\n",
       "      <td>COPP002</td>\n",
       "    </tr>\n",
       "    <tr>\n",
       "      <th>2750</th>\n",
       "      <td>150050.0</td>\n",
       "      <td>446250.0</td>\n",
       "      <td>-13.130</td>\n",
       "      <td>5.0</td>\n",
       "      <td>88.0</td>\n",
       "      <td>106.0</td>\n",
       "      <td>149400.0</td>\n",
       "      <td>444460.5</td>\n",
       "      <td>-88.99018</td>\n",
       "      <td>7.0</td>\n",
       "      <td>...</td>\n",
       "      <td>100.0</td>\n",
       "      <td>88.16352</td>\n",
       "      <td>7.0</td>\n",
       "      <td>1905.442</td>\n",
       "      <td>2751.0</td>\n",
       "      <td>5.0</td>\n",
       "      <td>50.0</td>\n",
       "      <td>27.0</td>\n",
       "      <td>0</td>\n",
       "      <td>COPP002</td>\n",
       "    </tr>\n",
       "    <tr>\n",
       "      <th>2751</th>\n",
       "      <td>150150.0</td>\n",
       "      <td>446250.0</td>\n",
       "      <td>-13.168</td>\n",
       "      <td>5.0</td>\n",
       "      <td>88.0</td>\n",
       "      <td>107.0</td>\n",
       "      <td>149400.0</td>\n",
       "      <td>444478.6</td>\n",
       "      <td>-88.12412</td>\n",
       "      <td>7.0</td>\n",
       "      <td>...</td>\n",
       "      <td>100.0</td>\n",
       "      <td>84.32168</td>\n",
       "      <td>7.0</td>\n",
       "      <td>1925.100</td>\n",
       "      <td>2752.0</td>\n",
       "      <td>5.0</td>\n",
       "      <td>51.0</td>\n",
       "      <td>27.0</td>\n",
       "      <td>0</td>\n",
       "      <td>COPP002</td>\n",
       "    </tr>\n",
       "    <tr>\n",
       "      <th>2752</th>\n",
       "      <td>150250.0</td>\n",
       "      <td>446250.0</td>\n",
       "      <td>-13.203</td>\n",
       "      <td>5.0</td>\n",
       "      <td>88.0</td>\n",
       "      <td>108.0</td>\n",
       "      <td>149400.0</td>\n",
       "      <td>444494.6</td>\n",
       "      <td>-88.29386</td>\n",
       "      <td>7.0</td>\n",
       "      <td>...</td>\n",
       "      <td>100.0</td>\n",
       "      <td>78.88768</td>\n",
       "      <td>7.0</td>\n",
       "      <td>1951.790</td>\n",
       "      <td>2753.0</td>\n",
       "      <td>5.0</td>\n",
       "      <td>52.0</td>\n",
       "      <td>27.0</td>\n",
       "      <td>0</td>\n",
       "      <td>COPP002</td>\n",
       "    </tr>\n",
       "    <tr>\n",
       "      <th>2753</th>\n",
       "      <td>150350.0</td>\n",
       "      <td>446250.0</td>\n",
       "      <td>-13.238</td>\n",
       "      <td>5.0</td>\n",
       "      <td>88.0</td>\n",
       "      <td>109.0</td>\n",
       "      <td>149410.9</td>\n",
       "      <td>444500.0</td>\n",
       "      <td>-88.81053</td>\n",
       "      <td>7.0</td>\n",
       "      <td>...</td>\n",
       "      <td>100.0</td>\n",
       "      <td>76.14520</td>\n",
       "      <td>7.0</td>\n",
       "      <td>1987.513</td>\n",
       "      <td>2754.0</td>\n",
       "      <td>5.0</td>\n",
       "      <td>53.0</td>\n",
       "      <td>27.0</td>\n",
       "      <td>0</td>\n",
       "      <td>COPP002</td>\n",
       "    </tr>\n",
       "  </tbody>\n",
       "</table>\n",
       "<p>5 rows × 21 columns</p>\n",
       "</div>"
      ],
      "text/plain": [
       "      SP_XCRD.  SP_YCRD.  SP_ZCRD.  SP_ILAY  SP_IROW  SP_ICOL  EP_XCRD.  \\\n",
       "2748  149850.0  446250.0   -13.051      5.0     88.0    104.0  149400.0   \n",
       "2750  150050.0  446250.0   -13.130      5.0     88.0    106.0  149400.0   \n",
       "2751  150150.0  446250.0   -13.168      5.0     88.0    107.0  149400.0   \n",
       "2752  150250.0  446250.0   -13.203      5.0     88.0    108.0  149400.0   \n",
       "2753  150350.0  446250.0   -13.238      5.0     88.0    109.0  149410.9   \n",
       "\n",
       "      EP_YCRD.  EP_ZCRD.  EP_ILAY  ...  EP_ICOL  TIME(YEARS)  MAXLAYER  \\\n",
       "2748  444421.4 -88.18723      7.0  ...    100.0     93.08960       7.0   \n",
       "2750  444460.5 -88.99018      7.0  ...    100.0     88.16352       7.0   \n",
       "2751  444478.6 -88.12412      7.0  ...    100.0     84.32168       7.0   \n",
       "2752  444494.6 -88.29386      7.0  ...    100.0     78.88768       7.0   \n",
       "2753  444500.0 -88.81053      7.0  ...    100.0     76.14520       7.0   \n",
       "\n",
       "      DISTANCE  IDENT.NO.  CAPTURED_BY  imodpath_col  imodpath_row  Well_nr  \\\n",
       "2748  1884.694     2749.0          5.0          48.0          27.0        0   \n",
       "2750  1905.442     2751.0          5.0          50.0          27.0        0   \n",
       "2751  1925.100     2752.0          5.0          51.0          27.0        0   \n",
       "2752  1951.790     2753.0          5.0          52.0          27.0        0   \n",
       "2753  1987.513     2754.0          5.0          53.0          27.0        0   \n",
       "\n",
       "      Well_code  \n",
       "2748    COPP002  \n",
       "2750    COPP002  \n",
       "2751    COPP002  \n",
       "2752    COPP002  \n",
       "2753    COPP002  \n",
       "\n",
       "[5 rows x 21 columns]"
      ]
     },
     "execution_count": 6,
     "metadata": {},
     "output_type": "execute_result"
    }
   ],
   "source": [
    "ipf_origin, ipf_traveltimes, data_ipf_well = pyhydro.ipf.flowpath_origin(data_wells, ipf_data, ipf_xs, ipf_ys, report=False)\n",
    "print('Note how the ipf flowpath data is linked to the well it is captured by: columns Well_nr and Well_code')\n",
    "data_ipf_well.head()"
   ]
  },
  {
   "cell_type": "code",
   "execution_count": 7,
   "metadata": {},
   "outputs": [
    {
     "name": "stdout",
     "output_type": "stream",
     "text": [
      "Plot the capture zones of each well and the traveltimes\n"
     ]
    },
    {
     "data": {
      "image/png": "[encoded data removed]",
      "text/plain": [
       "<Figure size 360x720 with 3 Axes>"
      ]
     },
     "metadata": {
      "needs_background": "light"
     },
     "output_type": "display_data"
    }
   ],
   "source": [
    "print('Plot the capture zones of each well and the traveltimes')\n",
    "fig, ax = plt.subplots(nrows=2, ncols=1, figsize=(5,10));\n",
    "ax[0].contourf(ipf_xs, ipf_ys, ipf_origin, cmap='YlOrRd')\n",
    "ax[0].plot(data_wells.loc[:, 'X'], data_wells.loc[:, 'Y'], '*', color='black', markersize=10);\n",
    "ax[0].set_title('Capture zone for each well')\n",
    "ax[1].contourf(ipf_xs, ipf_ys, ipf_traveltimes, cmap='Spectral')\n",
    "ax[1].plot(data_wells.loc[:, 'X'], data_wells.loc[:, 'Y'], '*', color='black', markersize=10);\n",
    "ax[1].set_title('Traveltime of flowpaths to wells')\n",
    "\n",
    "image_extent=(ipf_xs.min(), ipf_xs.max(), ipf_ys.min(), ipf_ys.max())\n",
    "pos = ax[1].imshow(ipf_traveltimes, extent=image_extent, cmap='Spectral')\n",
    "cbar = fig.colorbar(pos, ax=ax[1], shrink=0.6)\n",
    "cbar.set_label('Traveltime (years)', fontsize=15)\n"
   ]
  },
  {
   "cell_type": "markdown",
   "metadata": {},
   "source": [
    "#### Step 6. Finally, plot the heads of the modelsimulation and the traveltimes from the flowpath simulation"
   ]
  },
  {
   "cell_type": "code",
   "execution_count": 8,
   "metadata": {},
   "outputs": [
    {
     "name": "stdout",
     "output_type": "stream",
     "text": [
      "Plot the heads of the modelsimulation and the capture zone with traveltimes of the flowpath simulation\n"
     ]
    },
    {
     "data": {
      "image/png": "[encoded data removed]",
      "text/plain": [
       "<Figure size 720x720 with 2 Axes>"
      ]
     },
     "metadata": {
      "needs_background": "light"
     },
     "output_type": "display_data"
    }
   ],
   "source": [
    "print('Plot the heads of the modelsimulation and the capture zone with traveltimes of the flowpath simulation')\n",
    "fig, ax = plt.subplots(nrows=1, ncols=1, figsize=(10,10));\n",
    "ax.contourf(heads_xs, heads_ys, idf_heads[0, 0, :, :], cmap='Blues');\n",
    "ax.plot(data_wells.loc[:, 'X'], data_wells.loc[:, 'Y'], '*', color='black', markersize=10);\n",
    "ax.set_title('Heads and traveltimes to wells');\n",
    "ax.set_xlabel('X-coordinates');\n",
    "ax.set_ylabel('Y-coordinates');\n",
    "ax.contourf(ipf_xs, ipf_ys, ipf_traveltimes, cmap='Spectral')\n",
    "ax.plot(data_wells.loc[:, 'X'], data_wells.loc[:, 'Y'], '*', color='black', markersize=10);\n",
    "image_extent=(ipf_xs.min(), ipf_xs.max(), ipf_ys.min(), ipf_ys.max())\n",
    "pos = ax.imshow(ipf_traveltimes, extent=image_extent, cmap='Spectral')\n",
    "cbar = fig.colorbar(pos, ax=ax, shrink=0.6)\n",
    "cbar.set_label('Traveltime (years)', fontsize=15)\n",
    "plt.show(fig)"
   ]
  },
  {
   "cell_type": "markdown",
   "metadata": {},
   "source": [
    "#### Step 7. Optionally, save to GeoTiff file"
   ]
  },
  {
   "cell_type": "code",
   "execution_count": 9,
   "metadata": {},
   "outputs": [
    {
     "name": "stdout",
     "output_type": "stream",
     "text": [
      "GeoTiff saved in C:\\Users\\mulderma\\Documents\\Python\\pyhydro\\0.4\\examples\n"
     ]
    }
   ],
   "source": [
    "pyhydro.write.save_ipf_as_tif(ipf_traveltimes, ipf_xs, ipf_ys, file_path=r\"C:\\Users\\mulderma\\Documents\\Python\\pyhydro\\0.4\\examples\", file_name='example_traveltime')"
   ]
  },
  {
   "cell_type": "code",
   "execution_count": null,
   "metadata": {},
   "outputs": [],
   "source": []
  }
 ],
 "metadata": {
  "kernelspec": {
   "display_name": "Python 3",
   "language": "python",
   "name": "python3"
  },
  "language_info": {
   "codemirror_mode": {
    "name": "ipython",
    "version": 3
   },
   "file_extension": ".py",
   "mimetype": "text/x-python",
   "name": "python",
   "nbconvert_exporter": "python",
   "pygments_lexer": "ipython3",
   "version": "3.7.3"
  }
 },
 "nbformat": 4,
 "nbformat_minor": 2
}
